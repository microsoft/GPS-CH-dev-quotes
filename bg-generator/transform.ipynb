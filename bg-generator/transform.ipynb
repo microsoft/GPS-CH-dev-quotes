{
 "cells": [
  {
   "cell_type": "markdown",
   "id": "f4b8ac5b",
   "metadata": {},
   "source": [
    "# Dev Jokes ASCII Art AI Generator\n",
    "\n",
    "This script generates ASCII art of developer jokes using Azure OpenAI Dall·e and the `ascii_magic` library."
   ]
  },
  {
   "cell_type": "code",
   "execution_count": null,
   "id": "92353fbf",
   "metadata": {},
   "outputs": [],
   "source": [
    "import os\n",
    "from azure.identity import DefaultAzureCredential, get_bearer_token_provider\n",
    "from openai import AzureOpenAI\n",
    "import json\n",
    "\n",
    "from ascii_magic import AsciiArt"
   ]
  },
  {
   "cell_type": "markdown",
   "id": "6af131d3",
   "metadata": {},
   "source": [
    "## Data preparation\n",
    "\n",
    "We need to remove some quotes and other strange characters before generating the pictures."
   ]
  },
  {
   "cell_type": "code",
   "execution_count": null,
   "id": "30e59470",
   "metadata": {},
   "outputs": [],
   "source": [
    "import pandas as pd\n",
    "\n",
    "df = pd.read_excel(\"developer_jokes_3.xlsx\")\n",
    "df"
   ]
  },
  {
   "cell_type": "code",
   "execution_count": null,
   "id": "bda90df6",
   "metadata": {},
   "outputs": [],
   "source": [
    "df['Joke'][3]"
   ]
  },
  {
   "cell_type": "code",
   "execution_count": null,
   "id": "3afacee5",
   "metadata": {},
   "outputs": [],
   "source": [
    "# find non ascii characters on dataframe\n",
    "non_ascii_chars = set(char for joke in df['Joke'] for char in str(joke) if ord(char) > 127)\n",
    "print(sorted(non_ascii_chars))"
   ]
  },
  {
   "cell_type": "markdown",
   "id": "d9bde732",
   "metadata": {},
   "source": [
    "## Generator"
   ]
  },
  {
   "cell_type": "code",
   "execution_count": null,
   "id": "6cc47256",
   "metadata": {},
   "outputs": [],
   "source": [
    "endpoint = os.getenv(\n",
    "    \"AZURE_OPENAI_ENDPOINT\", \"https://[yourendpoint].openai.azure.com/\"\n",
    ")\n",
    "api_version = os.getenv(\"OPENAI_API_VERSION\", \"2024-04-01-preview\")\n",
    "dalle_deployment = os.getenv(\"DALL_E_DEPLOYMENT_NAME\", \"dall-e-3\")\n",
    "gpt_deployment = os.getenv(\"GPT_DEPLOYMENT_NAME\", \"gpt-4.1-nano\")\n",
    "\n",
    "token_provider = get_bearer_token_provider(\n",
    "    DefaultAzureCredential(), \"https://cognitiveservices.azure.com/.default\"\n",
    ")\n",
    "\n",
    "client = AzureOpenAI(\n",
    "    api_version=api_version,\n",
    "    azure_endpoint=endpoint,\n",
    "    azure_ad_token_provider=token_provider,\n",
    ")"
   ]
  },
  {
   "cell_type": "code",
   "execution_count": null,
   "id": "b211b80b",
   "metadata": {},
   "outputs": [],
   "source": [
    "import time\n",
    "from IPython.display import Image, display, clear_output\n",
    "import requests\n",
    "from urllib.parse import urlparse\n",
    "\n",
    "\n",
    "def generate_image_from_joke(joke:str)->str:\n",
    "    messages = [\n",
    "        {\n",
    "            \"role\": \"system\",\n",
    "            \"content\": \"You are a helpful designer that ideates images based on jokes. The images are abstract ideas of the joke. They will be converted to ASCII art, so don't overdo it or add any text, as it won't be visible once converted.\",\n",
    "        },\n",
    "        {\n",
    "            \"role\": \"user\",\n",
    "            \"content\": \"Joke: %s\\nIdea: \" % joke,\n",
    "        },\n",
    "    ]\n",
    "\n",
    "    # Generate the description of the image based on the joke\n",
    "    print(f\"Generating description for joke: {joke}\")\n",
    "    completion = client.chat.completions.create(\n",
    "        model=gpt_deployment,\n",
    "        messages=messages,\n",
    "        max_tokens=800,\n",
    "        temperature=1,\n",
    "        top_p=1,\n",
    "        frequency_penalty=0,\n",
    "        presence_penalty=0,\n",
    "        stop=None,\n",
    "        stream=False,\n",
    "    )\n",
    "\n",
    "    print(f\"Description: {completion.choices[0].message.content}\")\n",
    "\n",
    "    result = client.images.generate(\n",
    "        model=dalle_deployment,\n",
    "        prompt=completion.choices[0].message.content,\n",
    "        n=1,\n",
    "        style=\"vivid\",\n",
    "        quality=\"standard\",\n",
    "    )\n",
    "    image_url = json.loads(result.model_dump_json())[\"data\"][0][\"url\"]\n",
    "    # download the image\n",
    "    if not image_url:\n",
    "        raise ValueError(\"No image URL returned from the model.\")\n",
    "\n",
    "    return image_url\n",
    "\n",
    "try:\n",
    "    for index,row in df.iterrows():\n",
    "        idx=str(index).zfill(4)\n",
    "        fname = f\"art/ascii_art_{idx}.html\"        \n",
    "        image_filename=f\"images/image_{idx}.png\"\n",
    "\n",
    "        if os.path.exists(f\"../docs/{fname}\"):\n",
    "            print(f\"HTML file already exists: {fname}\")        \n",
    "        else:\n",
    "            if os.path.exists(image_filename):\n",
    "                print(f\"Image already exists: {image_filename}\")            \n",
    "            else:\n",
    "                retry_count = 0\n",
    "                while retry_count < 3:\n",
    "                    try:\n",
    "                        image_url = generate_image_from_joke(row[\"Joke\"])\n",
    "                        break\n",
    "                    except Exception as e:\n",
    "                        print(f\"Error generating image: {e}\")\n",
    "                        retry_count += 1\n",
    "                        time.sleep(5 ** retry_count + 1)  # Exponential backoff\n",
    "                        if retry_count >= 3:\n",
    "                            print(\"Failed to generate image after 3 attempts.\")\n",
    "                            continue\n",
    "\n",
    "                # Download the image\n",
    "                print(f\"Downloading image from URL: {image_url}\")\n",
    "                response = requests.get(image_url)\n",
    "                if response.status_code != 200:\n",
    "                    raise ValueError(\n",
    "                        f\"Failed to download image, status code: {response.status_code}\"\n",
    "                    )\n",
    "\n",
    "                with open(image_filename, \"wb\") as f:\n",
    "                    f.write(response.content)\n",
    "\n",
    "            ascii_art = AsciiArt.from_image(image_filename)\n",
    "\n",
    "            html=ascii_art.to_html()       \n",
    "            with open(f\"../docs/{fname}\", \"w\") as f:\n",
    "                f.write(html)\n",
    "\n",
    "        df.at[index, \"ascii_art\"] = fname\n",
    "        df.to_json(\"../docs/developer_jokes.json\", orient=\"records\", indent=2)\n",
    "finally:    \n",
    "    df.to_json(\"../docs/developer_jokes.json\", orient=\"records\", indent=2)"
   ]
  },
  {
   "cell_type": "code",
   "execution_count": null,
   "id": "3f9145a9",
   "metadata": {},
   "outputs": [],
   "source": [
    "df.head(10)\n"
   ]
  }
 ],
 "metadata": {
  "kernelspec": {
   "display_name": ".venv",
   "language": "python",
   "name": "python3"
  },
  "language_info": {
   "codemirror_mode": {
    "name": "ipython",
    "version": 3
   },
   "file_extension": ".py",
   "mimetype": "text/x-python",
   "name": "python",
   "nbconvert_exporter": "python",
   "pygments_lexer": "ipython3",
   "version": "3.12.3"
  }
 },
 "nbformat": 4,
 "nbformat_minor": 5
}
